{
 "cells": [
  {
   "cell_type": "markdown",
   "id": "4ca3f80b",
   "metadata": {},
   "source": [
    "HW 1\n",
    "jpp2464"
   ]
  },
  {
   "cell_type": "code",
   "execution_count": 50,
   "id": "a2828b5d",
   "metadata": {},
   "outputs": [
    {
     "name": "stdout",
     "output_type": "stream",
     "text": [
      "Requirement already satisfied: torch in /Users/juhipatel/opt/anaconda3/lib/python3.9/site-packages (1.13.1)\n",
      "Requirement already satisfied: typing-extensions in /Users/juhipatel/opt/anaconda3/lib/python3.9/site-packages (from torch) (4.1.1)\n",
      "\n",
      "\u001b[1m[\u001b[0m\u001b[34;49mnotice\u001b[0m\u001b[1;39;49m]\u001b[0m\u001b[39;49m A new release of pip available: \u001b[0m\u001b[31;49m22.2.2\u001b[0m\u001b[39;49m -> \u001b[0m\u001b[32;49m23.0.1\u001b[0m\n",
      "\u001b[1m[\u001b[0m\u001b[34;49mnotice\u001b[0m\u001b[1;39;49m]\u001b[0m\u001b[39;49m To update, run: \u001b[0m\u001b[32;49mpip install --upgrade pip\u001b[0m\n"
     ]
    }
   ],
   "source": [
    "!pip install torch\n",
    "import torch\n",
    "import numpy as np\n",
    "import pandas as pd\n",
    "from torch import nn"
   ]
  },
  {
   "cell_type": "markdown",
   "id": "592676f4",
   "metadata": {},
   "source": [
    "1.1"
   ]
  },
  {
   "cell_type": "code",
   "execution_count": 26,
   "id": "91c16bdd",
   "metadata": {},
   "outputs": [],
   "source": [
    "x = torch.tensor([4,2], dtype=torch.float, requires_grad=True)\n",
    "w = torch.tensor([2,1],dtype=torch.float)\n",
    "b = torch.tensor(3,dtype=torch.float)\n",
    "y = torch.matmul(w.T,x) + b"
   ]
  },
  {
   "cell_type": "code",
   "execution_count": 27,
   "id": "9df9d149",
   "metadata": {},
   "outputs": [],
   "source": [
    "y.backward()"
   ]
  },
  {
   "cell_type": "code",
   "execution_count": 28,
   "id": "310157f9",
   "metadata": {},
   "outputs": [
    {
     "data": {
      "text/plain": [
       "tensor([2., 1.])"
      ]
     },
     "execution_count": 28,
     "metadata": {},
     "output_type": "execute_result"
    }
   ],
   "source": [
    "x.grad"
   ]
  },
  {
   "cell_type": "markdown",
   "id": "067013df",
   "metadata": {},
   "source": [
    "1.2"
   ]
  },
  {
   "cell_type": "code",
   "execution_count": 51,
   "id": "d2196024",
   "metadata": {},
   "outputs": [],
   "source": [
    "y_true = torch.tensor([0,1,1,0],dtype=torch.float)\n",
    "y_pred = torch.tensor([0.1,0.95,1.10,0.2])\n",
    "\n",
    "mse_model = torch.nn.MSELoss()(y_true,y_pred)"
   ]
  },
  {
   "cell_type": "code",
   "execution_count": 52,
   "id": "5d8251ab",
   "metadata": {},
   "outputs": [
    {
     "name": "stdout",
     "output_type": "stream",
     "text": [
      "0.01562500186264515\n"
     ]
    }
   ],
   "source": [
    "print(mse_model.item())"
   ]
  },
  {
   "cell_type": "markdown",
   "id": "ccc37dbd",
   "metadata": {},
   "source": [
    "1.3"
   ]
  },
  {
   "cell_type": "code",
   "execution_count": 115,
   "id": "4b57a831",
   "metadata": {},
   "outputs": [],
   "source": [
    "x = torch.tensor([[0,0],[0,1],[1,0],[1,1]],dtype=torch.float)\n",
    "w = torch.tensor([2,1],dtype=torch.float,requires_grad=True)\n",
    "b = torch.tensor(3.0,requires_grad=True)"
   ]
  },
  {
   "cell_type": "code",
   "execution_count": 116,
   "id": "03d1aa93",
   "metadata": {},
   "outputs": [],
   "source": [
    "y_prediction = torch.sum(w*x,1)+b\n",
    "y = torch.tensor([0,1,1,0],dtype=torch.float)\n"
   ]
  },
  {
   "cell_type": "markdown",
   "id": "2768f21f",
   "metadata": {},
   "source": [
    "1.3 i "
   ]
  },
  {
   "cell_type": "code",
   "execution_count": 117,
   "id": "f6d2ef53",
   "metadata": {},
   "outputs": [
    {
     "name": "stdout",
     "output_type": "stream",
     "text": [
      "17.5\n"
     ]
    }
   ],
   "source": [
    "mse_loss=torch.nn.MSELoss()(y,y_prediction)\n",
    "print(mse_loss.item())"
   ]
  },
  {
   "cell_type": "markdown",
   "id": "dfa4926c",
   "metadata": {},
   "source": [
    "1.3 ii "
   ]
  },
  {
   "cell_type": "code",
   "execution_count": 118,
   "id": "216719fe",
   "metadata": {},
   "outputs": [
    {
     "data": {
      "text/plain": [
       "tensor([5.0000, 4.5000])"
      ]
     },
     "execution_count": 118,
     "metadata": {},
     "output_type": "execute_result"
    }
   ],
   "source": [
    "mse_loss.backward()\n",
    "w.grad"
   ]
  },
  {
   "cell_type": "code",
   "execution_count": 119,
   "id": "f53cfb8e",
   "metadata": {},
   "outputs": [
    {
     "data": {
      "text/plain": [
       "tensor(8.)"
      ]
     },
     "execution_count": 119,
     "metadata": {},
     "output_type": "execute_result"
    }
   ],
   "source": [
    "b.grad"
   ]
  },
  {
   "cell_type": "markdown",
   "id": "024ef80f",
   "metadata": {},
   "source": [
    "1.3 iii \n",
    "paper only \n",
    "\n",
    "w1 = 0, w2 = 0, w3 = 1/2"
   ]
  },
  {
   "cell_type": "markdown",
   "id": "941604f4",
   "metadata": {},
   "source": [
    "2.1"
   ]
  },
  {
   "cell_type": "code",
   "execution_count": 120,
   "id": "b145abb9",
   "metadata": {},
   "outputs": [
    {
     "data": {
      "text/plain": [
       "torch.Size([1, 1, 5])"
      ]
     },
     "execution_count": 120,
     "metadata": {},
     "output_type": "execute_result"
    }
   ],
   "source": [
    "x = torch.tensor([1,-1,3,4,4], dtype=torch.float)\n",
    "x = x1.unsqueeze(0)\n",
    "x.shape"
   ]
  },
  {
   "cell_type": "code",
   "execution_count": 121,
   "id": "a713ef01",
   "metadata": {},
   "outputs": [
    {
     "data": {
      "text/plain": [
       "tensor([[[1., 1.]]])"
      ]
     },
     "execution_count": 121,
     "metadata": {},
     "output_type": "execute_result"
    }
   ],
   "source": [
    "convol1 = nn.Conv1d(in_channels=1, out_channels=1, kernel_size=2,bias=False)\n",
    "convol1.weight.data=torch.tensor([1, 1],dtype=torch.float,requires_grad=True)\n",
    "convol1.weight.data=convol1.weight.data.unsqueeze(0).unsqueeze(0)\n",
    "convol1.weight.data"
   ]
  },
  {
   "cell_type": "code",
   "execution_count": 122,
   "id": "fefa2015",
   "metadata": {},
   "outputs": [
    {
     "data": {
      "text/plain": [
       "tensor([[[0., 2., 7., 8.]]], grad_fn=<ConvolutionBackward0>)"
      ]
     },
     "execution_count": 122,
     "metadata": {},
     "output_type": "execute_result"
    }
   ],
   "source": [
    "output = convol1(x)\n",
    "output"
   ]
  },
  {
   "cell_type": "code",
   "execution_count": 99,
   "id": "0090179b",
   "metadata": {},
   "outputs": [
    {
     "data": {
      "text/plain": [
       "tensor([[[1., 1.]]])"
      ]
     },
     "execution_count": 99,
     "metadata": {},
     "output_type": "execute_result"
    }
   ],
   "source": [
    "convol2 = nn.Conv1d(in_channels=1, out_channels=1, kernel_size=2, stride = 2, bias=False)\n",
    "convol2.weight.data=torch.tensor([1, 1],dtype=torch.float,requires_grad=True)\n",
    "convol2.weight.data=convol2.weight.data.unsqueeze(0).unsqueeze(0)\n",
    "convol2.weight.data"
   ]
  },
  {
   "cell_type": "code",
   "execution_count": 100,
   "id": "86ca61f9",
   "metadata": {},
   "outputs": [
    {
     "data": {
      "text/plain": [
       "tensor([[[0., 7.]]], grad_fn=<ConvolutionBackward0>)"
      ]
     },
     "execution_count": 100,
     "metadata": {},
     "output_type": "execute_result"
    }
   ],
   "source": [
    "output_2 = convol2(x)\n",
    "output_2"
   ]
  },
  {
   "cell_type": "markdown",
   "id": "567bd118",
   "metadata": {},
   "source": [
    "2.2"
   ]
  },
  {
   "cell_type": "markdown",
   "id": "e767ff4b",
   "metadata": {},
   "source": [
    "2.2i "
   ]
  },
  {
   "cell_type": "code",
   "execution_count": 101,
   "id": "57e9c94e",
   "metadata": {},
   "outputs": [
    {
     "data": {
      "text/plain": [
       "torch.Size([1, 4, 4])"
      ]
     },
     "execution_count": 101,
     "metadata": {},
     "output_type": "execute_result"
    }
   ],
   "source": [
    "x22 = torch.tensor([[0.1,-0.6,0.4,0.8],[-0.4,0.3,0.9,0.2],[0.5,0.2,0.8,-0.7],[0.3,0.7,-0.4,0.1]])\n",
    "x22 = x22.unsqueeze(0)\n",
    "x22.shape"
   ]
  },
  {
   "cell_type": "code",
   "execution_count": 105,
   "id": "95d01e9c",
   "metadata": {},
   "outputs": [
    {
     "data": {
      "text/plain": [
       "torch.Size([1, 1, 2, 2])"
      ]
     },
     "execution_count": 105,
     "metadata": {},
     "output_type": "execute_result"
    }
   ],
   "source": [
    "conv22=nn.Conv2d(in_channels=1,out_channels=1,kernel_size=2,bias=False)\n",
    "conv22.weight.data=torch.tensor([[1,0],[0,1]],dtype=torch.float)\n",
    "conv22.weight.data=conv22.weight.data.unsqueeze(0).unsqueeze(0)\n",
    "conv22.weight.data.shape"
   ]
  },
  {
   "cell_type": "code",
   "execution_count": 107,
   "id": "3f9f937f",
   "metadata": {},
   "outputs": [
    {
     "data": {
      "text/plain": [
       "tensor([[[ 0.4000,  0.3000,  0.6000],\n",
       "         [-0.2000,  1.1000,  0.2000],\n",
       "         [ 1.2000, -0.2000,  0.9000]]], grad_fn=<SqueezeBackward1>)"
      ]
     },
     "execution_count": 107,
     "metadata": {},
     "output_type": "execute_result"
    }
   ],
   "source": [
    "output_3 = conv22(x22)\n",
    "output_3\n"
   ]
  },
  {
   "cell_type": "code",
   "execution_count": 112,
   "id": "a868554e",
   "metadata": {},
   "outputs": [
    {
     "data": {
      "text/plain": [
       "torch.Size([1, 1, 2, 2])"
      ]
     },
     "execution_count": 112,
     "metadata": {},
     "output_type": "execute_result"
    }
   ],
   "source": [
    "conv23 = nn.Conv2d(in_channels=1,out_channels=1,kernel_size=2,bias=False)\n",
    "conv23.weight.data = torch.tensor([[0,1],[1,0]],dtype=torch.float)\n",
    "conv23.weight.data = conv23.weight.data.unsqueeze(0).unsqueeze(0)\n",
    "conv23.weight.data.shape"
   ]
  },
  {
   "cell_type": "code",
   "execution_count": 113,
   "id": "e6b41b96",
   "metadata": {},
   "outputs": [
    {
     "data": {
      "text/plain": [
       "tensor([[[-1.0000,  0.7000,  1.7000],\n",
       "         [ 0.8000,  1.1000,  1.0000],\n",
       "         [ 0.5000,  1.5000, -1.1000]]], grad_fn=<SqueezeBackward1>)"
      ]
     },
     "execution_count": 113,
     "metadata": {},
     "output_type": "execute_result"
    }
   ],
   "source": [
    "output_4 = cnn2d_2(x22)\n",
    "output_4"
   ]
  },
  {
   "cell_type": "markdown",
   "id": "4ff19945",
   "metadata": {},
   "source": [
    "iv"
   ]
  },
  {
   "cell_type": "code",
   "execution_count": 111,
   "id": "eb57d125",
   "metadata": {},
   "outputs": [
    {
     "data": {
      "text/plain": [
       "tensor([[[0.3000, 0.9000, 0.9000],\n",
       "         [0.5000, 0.9000, 0.9000],\n",
       "         [0.7000, 0.8000, 0.8000]]])"
      ]
     },
     "execution_count": 111,
     "metadata": {},
     "output_type": "execute_result"
    }
   ],
   "source": [
    "max_pooling = nn.MaxPool2d(2, stride=1)\n",
    "yy = max_pooling(x22)\n",
    "yy"
   ]
  },
  {
   "cell_type": "code",
   "execution_count": null,
   "id": "ff1e80f4",
   "metadata": {},
   "outputs": [],
   "source": []
  }
 ],
 "metadata": {
  "kernelspec": {
   "display_name": "Python 3 (ipykernel)",
   "language": "python",
   "name": "python3"
  },
  "language_info": {
   "codemirror_mode": {
    "name": "ipython",
    "version": 3
   },
   "file_extension": ".py",
   "mimetype": "text/x-python",
   "name": "python",
   "nbconvert_exporter": "python",
   "pygments_lexer": "ipython3",
   "version": "3.9.12"
  },
  "vscode": {
   "interpreter": {
    "hash": "506a163f4b90621fd171cba64da19774c5663479575863de938c33c643f317f2"
   }
  }
 },
 "nbformat": 4,
 "nbformat_minor": 5
}
