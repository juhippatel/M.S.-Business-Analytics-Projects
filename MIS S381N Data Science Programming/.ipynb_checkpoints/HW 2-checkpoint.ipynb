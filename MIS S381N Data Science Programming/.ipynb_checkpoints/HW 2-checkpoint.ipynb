{
 "cells": [
  {
   "cell_type": "code",
   "execution_count": 81,
   "id": "c7b7654b",
   "metadata": {
    "scrolled": true
   },
   "outputs": [
    {
     "name": "stdout",
     "output_type": "stream",
     "text": [
      "%pylab is deprecated, use %matplotlib inline and import the required libraries.\n",
      "Populating the interactive namespace from numpy and matplotlib\n"
     ]
    }
   ],
   "source": [
    "from pandas import Series, DataFrame\n",
    "import pandas as pd\n",
    "%pylab inline"
   ]
  },
  {
   "cell_type": "code",
   "execution_count": 82,
   "id": "beed795f",
   "metadata": {
    "scrolled": true
   },
   "outputs": [
    {
     "data": {
      "text/html": [
       "<div>\n",
       "<style scoped>\n",
       "    .dataframe tbody tr th:only-of-type {\n",
       "        vertical-align: middle;\n",
       "    }\n",
       "\n",
       "    .dataframe tbody tr th {\n",
       "        vertical-align: top;\n",
       "    }\n",
       "\n",
       "    .dataframe thead th {\n",
       "        text-align: right;\n",
       "    }\n",
       "</style>\n",
       "<table border=\"1\" class=\"dataframe\">\n",
       "  <thead>\n",
       "    <tr style=\"text-align: right;\">\n",
       "      <th></th>\n",
       "      <th>Unnamed: 0</th>\n",
       "      <th>CAMIS</th>\n",
       "      <th>DBA</th>\n",
       "      <th>BORO</th>\n",
       "      <th>BUILDING</th>\n",
       "      <th>STREET</th>\n",
       "      <th>ZIPCODE</th>\n",
       "      <th>PHONE</th>\n",
       "      <th>CUISINE DESCRIPTION</th>\n",
       "      <th>INSPECTION DATE</th>\n",
       "      <th>ACTION</th>\n",
       "      <th>VIOLATION CODE</th>\n",
       "      <th>VIOLATION DESCRIPTION</th>\n",
       "      <th>CRITICAL FLAG</th>\n",
       "      <th>SCORE</th>\n",
       "      <th>GRADE</th>\n",
       "      <th>GRADE DATE</th>\n",
       "      <th>RECORD DATE</th>\n",
       "      <th>INSPECTION TYPE</th>\n",
       "    </tr>\n",
       "  </thead>\n",
       "  <tbody>\n",
       "    <tr>\n",
       "      <th>0</th>\n",
       "      <td>0</td>\n",
       "      <td>30112340</td>\n",
       "      <td>WENDY'S</td>\n",
       "      <td>BROOKLYN</td>\n",
       "      <td>469</td>\n",
       "      <td>FLATBUSH AVENUE</td>\n",
       "      <td>11225</td>\n",
       "      <td>7182875005</td>\n",
       "      <td>Hamburgers</td>\n",
       "      <td>12/30/2014</td>\n",
       "      <td>Violations were cited in the following area(s).</td>\n",
       "      <td>06C</td>\n",
       "      <td>Food not protected from potential source of co...</td>\n",
       "      <td>Critical</td>\n",
       "      <td>8</td>\n",
       "      <td>A</td>\n",
       "      <td>12/30/2014</td>\n",
       "      <td>02/12/2015</td>\n",
       "      <td>Cycle Inspection / Re-inspection</td>\n",
       "    </tr>\n",
       "    <tr>\n",
       "      <th>1</th>\n",
       "      <td>1</td>\n",
       "      <td>30112340</td>\n",
       "      <td>WENDY'S</td>\n",
       "      <td>BROOKLYN</td>\n",
       "      <td>469</td>\n",
       "      <td>FLATBUSH AVENUE</td>\n",
       "      <td>11225</td>\n",
       "      <td>7182875005</td>\n",
       "      <td>Hamburgers</td>\n",
       "      <td>12/30/2014</td>\n",
       "      <td>Violations were cited in the following area(s).</td>\n",
       "      <td>10F</td>\n",
       "      <td>Non-food contact surface improperly constructe...</td>\n",
       "      <td>Not Critical</td>\n",
       "      <td>8</td>\n",
       "      <td>A</td>\n",
       "      <td>12/30/2014</td>\n",
       "      <td>02/12/2015</td>\n",
       "      <td>Cycle Inspection / Re-inspection</td>\n",
       "    </tr>\n",
       "    <tr>\n",
       "      <th>2</th>\n",
       "      <td>2</td>\n",
       "      <td>30112340</td>\n",
       "      <td>WENDY'S</td>\n",
       "      <td>BROOKLYN</td>\n",
       "      <td>469</td>\n",
       "      <td>FLATBUSH AVENUE</td>\n",
       "      <td>11225</td>\n",
       "      <td>7182875005</td>\n",
       "      <td>Hamburgers</td>\n",
       "      <td>11/13/2014</td>\n",
       "      <td>Violations were cited in the following area(s).</td>\n",
       "      <td>04H</td>\n",
       "      <td>Raw, cooked or prepared food is adulterated, c...</td>\n",
       "      <td>Critical</td>\n",
       "      <td>16</td>\n",
       "      <td>NaN</td>\n",
       "      <td>NaN</td>\n",
       "      <td>02/12/2015</td>\n",
       "      <td>Cycle Inspection / Initial Inspection</td>\n",
       "    </tr>\n",
       "    <tr>\n",
       "      <th>3</th>\n",
       "      <td>3</td>\n",
       "      <td>30112340</td>\n",
       "      <td>WENDY'S</td>\n",
       "      <td>BROOKLYN</td>\n",
       "      <td>469</td>\n",
       "      <td>FLATBUSH AVENUE</td>\n",
       "      <td>11225</td>\n",
       "      <td>7182875005</td>\n",
       "      <td>Hamburgers</td>\n",
       "      <td>11/13/2014</td>\n",
       "      <td>Violations were cited in the following area(s).</td>\n",
       "      <td>06A</td>\n",
       "      <td>Personal cleanliness inadequate. Outer garment...</td>\n",
       "      <td>Critical</td>\n",
       "      <td>16</td>\n",
       "      <td>NaN</td>\n",
       "      <td>NaN</td>\n",
       "      <td>02/12/2015</td>\n",
       "      <td>Cycle Inspection / Initial Inspection</td>\n",
       "    </tr>\n",
       "    <tr>\n",
       "      <th>4</th>\n",
       "      <td>4</td>\n",
       "      <td>30112340</td>\n",
       "      <td>WENDY'S</td>\n",
       "      <td>BROOKLYN</td>\n",
       "      <td>469</td>\n",
       "      <td>FLATBUSH AVENUE</td>\n",
       "      <td>11225</td>\n",
       "      <td>7182875005</td>\n",
       "      <td>Hamburgers</td>\n",
       "      <td>11/13/2014</td>\n",
       "      <td>Violations were cited in the following area(s).</td>\n",
       "      <td>10F</td>\n",
       "      <td>Non-food contact surface improperly constructe...</td>\n",
       "      <td>Not Critical</td>\n",
       "      <td>16</td>\n",
       "      <td>NaN</td>\n",
       "      <td>NaN</td>\n",
       "      <td>02/12/2015</td>\n",
       "      <td>Cycle Inspection / Initial Inspection</td>\n",
       "    </tr>\n",
       "    <tr>\n",
       "      <th>5</th>\n",
       "      <td>5</td>\n",
       "      <td>40356068</td>\n",
       "      <td>TOV KOSHER KITCHEN</td>\n",
       "      <td>QUEENS</td>\n",
       "      <td>97-22</td>\n",
       "      <td>63 ROAD</td>\n",
       "      <td>11374</td>\n",
       "      <td>7188967788</td>\n",
       "      <td>Jewish/Kosher</td>\n",
       "      <td>11/24/2014</td>\n",
       "      <td>Violations were cited in the following area(s).</td>\n",
       "      <td>02B</td>\n",
       "      <td>Hot food item not held at or above 140º F.</td>\n",
       "      <td>Critical</td>\n",
       "      <td>20</td>\n",
       "      <td>Z</td>\n",
       "      <td>11/24/2014</td>\n",
       "      <td>02/12/2015</td>\n",
       "      <td>Cycle Inspection / Re-inspection</td>\n",
       "    </tr>\n",
       "    <tr>\n",
       "      <th>6</th>\n",
       "      <td>6</td>\n",
       "      <td>40356068</td>\n",
       "      <td>TOV KOSHER KITCHEN</td>\n",
       "      <td>QUEENS</td>\n",
       "      <td>97-22</td>\n",
       "      <td>63 ROAD</td>\n",
       "      <td>11374</td>\n",
       "      <td>7188967788</td>\n",
       "      <td>Jewish/Kosher</td>\n",
       "      <td>11/24/2014</td>\n",
       "      <td>Violations were cited in the following area(s).</td>\n",
       "      <td>06A</td>\n",
       "      <td>Personal cleanliness inadequate. Outer garment...</td>\n",
       "      <td>Critical</td>\n",
       "      <td>20</td>\n",
       "      <td>Z</td>\n",
       "      <td>11/24/2014</td>\n",
       "      <td>02/12/2015</td>\n",
       "      <td>Cycle Inspection / Re-inspection</td>\n",
       "    </tr>\n",
       "    <tr>\n",
       "      <th>7</th>\n",
       "      <td>7</td>\n",
       "      <td>40356068</td>\n",
       "      <td>TOV KOSHER KITCHEN</td>\n",
       "      <td>QUEENS</td>\n",
       "      <td>97-22</td>\n",
       "      <td>63 ROAD</td>\n",
       "      <td>11374</td>\n",
       "      <td>7188967788</td>\n",
       "      <td>Jewish/Kosher</td>\n",
       "      <td>11/24/2014</td>\n",
       "      <td>Violations were cited in the following area(s).</td>\n",
       "      <td>06C</td>\n",
       "      <td>Food not protected from potential source of co...</td>\n",
       "      <td>Critical</td>\n",
       "      <td>20</td>\n",
       "      <td>Z</td>\n",
       "      <td>11/24/2014</td>\n",
       "      <td>02/12/2015</td>\n",
       "      <td>Cycle Inspection / Re-inspection</td>\n",
       "    </tr>\n",
       "    <tr>\n",
       "      <th>8</th>\n",
       "      <td>8</td>\n",
       "      <td>40356068</td>\n",
       "      <td>TOV KOSHER KITCHEN</td>\n",
       "      <td>QUEENS</td>\n",
       "      <td>97-22</td>\n",
       "      <td>63 ROAD</td>\n",
       "      <td>11374</td>\n",
       "      <td>7188967788</td>\n",
       "      <td>Jewish/Kosher</td>\n",
       "      <td>11/24/2014</td>\n",
       "      <td>Violations were cited in the following area(s).</td>\n",
       "      <td>10F</td>\n",
       "      <td>Non-food contact surface improperly constructe...</td>\n",
       "      <td>Not Critical</td>\n",
       "      <td>20</td>\n",
       "      <td>Z</td>\n",
       "      <td>11/24/2014</td>\n",
       "      <td>02/12/2015</td>\n",
       "      <td>Cycle Inspection / Re-inspection</td>\n",
       "    </tr>\n",
       "    <tr>\n",
       "      <th>9</th>\n",
       "      <td>9</td>\n",
       "      <td>40356151</td>\n",
       "      <td>BRUNOS ON THE BOULEVARD</td>\n",
       "      <td>QUEENS</td>\n",
       "      <td>8825</td>\n",
       "      <td>ASTORIA BOULEVARD</td>\n",
       "      <td>11369</td>\n",
       "      <td>7183350505</td>\n",
       "      <td>American</td>\n",
       "      <td>11/15/2014</td>\n",
       "      <td>Violations were cited in the following area(s).</td>\n",
       "      <td>04L</td>\n",
       "      <td>Evidence of mice or live mice present in facil...</td>\n",
       "      <td>Critical</td>\n",
       "      <td>38</td>\n",
       "      <td>Z</td>\n",
       "      <td>11/15/2014</td>\n",
       "      <td>02/12/2015</td>\n",
       "      <td>Cycle Inspection / Re-inspection</td>\n",
       "    </tr>\n",
       "  </tbody>\n",
       "</table>\n",
       "</div>"
      ],
      "text/plain": [
       "  Unnamed: 0     CAMIS                      DBA      BORO BUILDING  \\\n",
       "0          0  30112340                  WENDY'S  BROOKLYN      469   \n",
       "1          1  30112340                  WENDY'S  BROOKLYN      469   \n",
       "2          2  30112340                  WENDY'S  BROOKLYN      469   \n",
       "3          3  30112340                  WENDY'S  BROOKLYN      469   \n",
       "4          4  30112340                  WENDY'S  BROOKLYN      469   \n",
       "5          5  40356068       TOV KOSHER KITCHEN    QUEENS    97-22   \n",
       "6          6  40356068       TOV KOSHER KITCHEN    QUEENS    97-22   \n",
       "7          7  40356068       TOV KOSHER KITCHEN    QUEENS    97-22   \n",
       "8          8  40356068       TOV KOSHER KITCHEN    QUEENS    97-22   \n",
       "9          9  40356151  BRUNOS ON THE BOULEVARD    QUEENS     8825   \n",
       "\n",
       "              STREET ZIPCODE       PHONE CUISINE DESCRIPTION INSPECTION DATE  \\\n",
       "0    FLATBUSH AVENUE   11225  7182875005          Hamburgers      12/30/2014   \n",
       "1    FLATBUSH AVENUE   11225  7182875005          Hamburgers      12/30/2014   \n",
       "2    FLATBUSH AVENUE   11225  7182875005          Hamburgers      11/13/2014   \n",
       "3    FLATBUSH AVENUE   11225  7182875005          Hamburgers      11/13/2014   \n",
       "4    FLATBUSH AVENUE   11225  7182875005          Hamburgers      11/13/2014   \n",
       "5            63 ROAD   11374  7188967788       Jewish/Kosher      11/24/2014   \n",
       "6            63 ROAD   11374  7188967788       Jewish/Kosher      11/24/2014   \n",
       "7            63 ROAD   11374  7188967788       Jewish/Kosher      11/24/2014   \n",
       "8            63 ROAD   11374  7188967788       Jewish/Kosher      11/24/2014   \n",
       "9  ASTORIA BOULEVARD   11369  7183350505           American       11/15/2014   \n",
       "\n",
       "                                            ACTION VIOLATION CODE  \\\n",
       "0  Violations were cited in the following area(s).            06C   \n",
       "1  Violations were cited in the following area(s).            10F   \n",
       "2  Violations were cited in the following area(s).            04H   \n",
       "3  Violations were cited in the following area(s).            06A   \n",
       "4  Violations were cited in the following area(s).            10F   \n",
       "5  Violations were cited in the following area(s).            02B   \n",
       "6  Violations were cited in the following area(s).            06A   \n",
       "7  Violations were cited in the following area(s).            06C   \n",
       "8  Violations were cited in the following area(s).            10F   \n",
       "9  Violations were cited in the following area(s).            04L   \n",
       "\n",
       "                               VIOLATION DESCRIPTION CRITICAL FLAG SCORE  \\\n",
       "0  Food not protected from potential source of co...      Critical     8   \n",
       "1  Non-food contact surface improperly constructe...  Not Critical     8   \n",
       "2  Raw, cooked or prepared food is adulterated, c...      Critical    16   \n",
       "3  Personal cleanliness inadequate. Outer garment...      Critical    16   \n",
       "4  Non-food contact surface improperly constructe...  Not Critical    16   \n",
       "5         Hot food item not held at or above 140º F.      Critical    20   \n",
       "6  Personal cleanliness inadequate. Outer garment...      Critical    20   \n",
       "7  Food not protected from potential source of co...      Critical    20   \n",
       "8  Non-food contact surface improperly constructe...  Not Critical    20   \n",
       "9  Evidence of mice or live mice present in facil...      Critical    38   \n",
       "\n",
       "  GRADE  GRADE DATE RECORD DATE                        INSPECTION TYPE  \n",
       "0     A  12/30/2014  02/12/2015       Cycle Inspection / Re-inspection  \n",
       "1     A  12/30/2014  02/12/2015       Cycle Inspection / Re-inspection  \n",
       "2   NaN         NaN  02/12/2015  Cycle Inspection / Initial Inspection  \n",
       "3   NaN         NaN  02/12/2015  Cycle Inspection / Initial Inspection  \n",
       "4   NaN         NaN  02/12/2015  Cycle Inspection / Initial Inspection  \n",
       "5     Z  11/24/2014  02/12/2015       Cycle Inspection / Re-inspection  \n",
       "6     Z  11/24/2014  02/12/2015       Cycle Inspection / Re-inspection  \n",
       "7     Z  11/24/2014  02/12/2015       Cycle Inspection / Re-inspection  \n",
       "8     Z  11/24/2014  02/12/2015       Cycle Inspection / Re-inspection  \n",
       "9     Z  11/15/2014  02/12/2015       Cycle Inspection / Re-inspection  "
      ]
     },
     "execution_count": 82,
     "metadata": {},
     "output_type": "execute_result"
    }
   ],
   "source": [
    "df = pd.read_csv('NYC_Restaurants.csv', dtype=str)\n",
    "df.iloc[:10]"
   ]
  },
  {
   "cell_type": "markdown",
   "id": "172ab2b5",
   "metadata": {},
   "source": [
    "## Question 1"
   ]
  },
  {
   "cell_type": "code",
   "execution_count": 83,
   "id": "f764490d",
   "metadata": {
    "scrolled": true
   },
   "outputs": [
    {
     "data": {
      "text/plain": [
       "0           WENDY'S 469 FLATBUSH AVENUE 11225 BROOKLYN\n",
       "1           WENDY'S 469 FLATBUSH AVENUE 11225 BROOKLYN\n",
       "2           WENDY'S 469 FLATBUSH AVENUE 11225 BROOKLYN\n",
       "3           WENDY'S 469 FLATBUSH AVENUE 11225 BROOKLYN\n",
       "4           WENDY'S 469 FLATBUSH AVENUE 11225 BROOKLYN\n",
       "5        TOV KOSHER KITCHEN 97-22 63 ROAD 11374 QUEENS\n",
       "6        TOV KOSHER KITCHEN 97-22 63 ROAD 11374 QUEENS\n",
       "7        TOV KOSHER KITCHEN 97-22 63 ROAD 11374 QUEENS\n",
       "8        TOV KOSHER KITCHEN 97-22 63 ROAD 11374 QUEENS\n",
       "9    BRUNOS ON THE BOULEVARD 8825 ASTORIA BOULEVARD...\n",
       "Name: RESTAURANT, dtype: object"
      ]
     },
     "execution_count": 83,
     "metadata": {},
     "output_type": "execute_result"
    }
   ],
   "source": [
    "df[\"RESTAURANT\"] = df['DBA'].astype(str) +\" \"+ df[\"BUILDING\"] +\" \"+ df[\"STREET\"] +\" \"+ df[\"ZIPCODE\"] +\" \"+ df[\"BORO\"] \n",
    "df['RESTAURANT'][:10]"
   ]
  },
  {
   "cell_type": "markdown",
   "id": "88fc9b94",
   "metadata": {},
   "source": [
    "## Question 2"
   ]
  },
  {
   "cell_type": "code",
   "execution_count": 84,
   "id": "b4484bf3",
   "metadata": {},
   "outputs": [
    {
     "name": "stdout",
     "output_type": "stream",
     "text": [
      "10114\n"
     ]
    }
   ],
   "source": [
    "total_rest = sum(df.drop_duplicates(subset = 'RESTAURANT')['DBA'].value_counts())\n",
    "print (total_rest)"
   ]
  },
  {
   "cell_type": "markdown",
   "id": "b305a0da",
   "metadata": {},
   "source": [
    "## Question 3"
   ]
  },
  {
   "cell_type": "code",
   "execution_count": 85,
   "id": "5c5916a2",
   "metadata": {},
   "outputs": [
    {
     "name": "stdout",
     "output_type": "stream",
     "text": [
      "There are 368 chains in the dataset\n"
     ]
    }
   ],
   "source": [
    "num_chains = df[['DBA', 'BUILDING', 'STREET', 'ZIPCODE', 'BORO']].drop_duplicates()['DBA'].value_counts()\n",
    "chain = (num_chains > 1)\n",
    "chains = num_chains[chain]\n",
    "\n",
    "print(\"There are\",len(chains), \"chains in the dataset\")"
   ]
  },
  {
   "cell_type": "markdown",
   "id": "c269e78f",
   "metadata": {},
   "source": [
    "## Question 4"
   ]
  },
  {
   "cell_type": "code",
   "execution_count": 86,
   "id": "84af8f81",
   "metadata": {},
   "outputs": [
    {
     "data": {
      "text/plain": [
       "<AxesSubplot:>"
      ]
     },
     "execution_count": 86,
     "metadata": {},
     "output_type": "execute_result"
    },
    {
     "data": {
      "image/png": "[encoded data removed]",
      "text/plain": [
       "<Figure size 432x288 with 1 Axes>"
      ]
     },
     "metadata": {
      "needs_background": "light"
     },
     "output_type": "display_data"
    }
   ],
   "source": [
    "chains[:20].plot(kind='bar')"
   ]
  },
  {
   "cell_type": "markdown",
   "id": "672c18df",
   "metadata": {},
   "source": [
    "## Question 5"
   ]
  },
  {
   "cell_type": "code",
   "execution_count": 87,
   "id": "5f666a98",
   "metadata": {},
   "outputs": [
    {
     "name": "stdout",
     "output_type": "stream",
     "text": [
      "0.16472216729286138\n"
     ]
    }
   ],
   "source": [
    "fraction = sum(chains) / sum(num_chains)\n",
    "print(fraction)\n"
   ]
  },
  {
   "cell_type": "markdown",
   "id": "5ed12827",
   "metadata": {},
   "source": [
    "## Question 6"
   ]
  },
  {
   "cell_type": "code",
   "execution_count": 88,
   "id": "f3e35b8e",
   "metadata": {
    "scrolled": true
   },
   "outputs": [
    {
     "data": {
      "text/plain": [
       "<AxesSubplot:>"
      ]
     },
     "execution_count": 88,
     "metadata": {},
     "output_type": "execute_result"
    },
    {
     "data": {
      "image/png": "[encoded data removed]",
      "text/plain": [
       "<Figure size 432x288 with 1 Axes>"
      ]
     },
     "metadata": {
      "needs_background": "light"
     },
     "output_type": "display_data"
    }
   ],
   "source": [
    "missing_mask = new_df['BORO'] == 'Missing' #to take out missing BORO values \n",
    "new_df[missing_mask] = np.nan\n",
    "\n",
    "new_df = df[['DBA','RESTAURANT','BORO']].drop_duplicates(subset = ['DBA','RESTAURANT'])\n",
    "new_df = new_df.drop_duplicates(subset = ['DBA'])\n",
    "\n",
    "new_df['BORO'].value_counts().plot(kind = 'bar')"
   ]
  },
  {
   "cell_type": "markdown",
   "id": "4a1bbe02",
   "metadata": {},
   "source": [
    "## Question 7"
   ]
  },
  {
   "cell_type": "code",
   "execution_count": 79,
   "id": "7d6b7b04",
   "metadata": {},
   "outputs": [
    {
     "data": {
      "text/plain": [
       "<AxesSubplot:>"
      ]
     },
     "execution_count": 79,
     "metadata": {},
     "output_type": "execute_result"
    },
    {
     "data": {
      "image/png": "[encoded data removed]",
      "text/plain": [
       "<Figure size 432x288 with 1 Axes>"
      ]
     },
     "metadata": {
      "needs_background": "light"
     },
     "output_type": "display_data"
    }
   ],
   "source": [
    "(num_non_chains / boro_df_with_index['BORO'].value_counts()).plot(kind='bar')"
   ]
  },
  {
   "cell_type": "markdown",
   "id": "1ed8aff8",
   "metadata": {},
   "source": [
    "## Question 8"
   ]
  },
  {
   "cell_type": "code",
   "execution_count": 10,
   "id": "dee279bb",
   "metadata": {},
   "outputs": [
    {
     "data": {
      "image/png": "[encoded data removed]",
      "text/plain": [
       "<Figure size 432x288 with 1 Axes>"
      ]
     },
     "metadata": {
      "needs_background": "light"
     },
     "output_type": "display_data"
    }
   ],
   "source": [
    "cusines = df[['DBA', 'BUILDING', 'STREET', 'ZIPCODE', 'BORO', 'CUISINE DESCRIPTION']].dropna(how='any').drop_duplicates()['CUISINE DESCRIPTION'].value_counts()\n",
    "cusines[:20].plot(kind='bar')\n",
    "plt.show()"
   ]
  },
  {
   "cell_type": "markdown",
   "id": "c16619ec",
   "metadata": {},
   "source": [
    "## Question 9"
   ]
  },
  {
   "cell_type": "code",
   "execution_count": 62,
   "id": "ab61c271",
   "metadata": {},
   "outputs": [],
   "source": [
    "df.loc[~(df['VIOLATION CODE'].isnull()), 'violation_key'] = 1\n",
    "df.loc[df['VIOLATION CODE'].isnull(), 'violation_key'] = 0\n",
    "\n",
    "mask = df.groupby(\"RESTAURANT\")[\"violation_key\"].sum().reset_index()\n",
    "mask = mask[mask['violation_key']==0]['RESTAURANT']\n"
   ]
  },
  {
   "cell_type": "code",
   "execution_count": 63,
   "id": "43d40b03",
   "metadata": {},
   "outputs": [
    {
     "data": {
      "image/png": "[encoded data removed]",
      "text/plain": [
       "<Figure size 432x288 with 1 Axes>"
      ]
     },
     "metadata": {
      "needs_background": "light"
     },
     "output_type": "display_data"
    }
   ],
   "source": [
    "df_noviolation = df[df[\"RESTAURANT\"].isin(mask)]\n",
    "df_noviolation = df_noviolation.drop_duplicates([\"RESTAURANT\",\"CUISINE DESCRIPTION\"])\n",
    "df_noviolation[\"CUISINE DESCRIPTION\"].value_counts().sort_values(ascending=False).iloc[:20].plot.bar()\n",
    "\n",
    "clean_rest = df_noviolation[\"CUISINE DESCRIPTION\"].value_counts()"
   ]
  },
  {
   "cell_type": "markdown",
   "id": "2efa8d47",
   "metadata": {},
   "source": [
    "## Question 10"
   ]
  },
  {
   "cell_type": "code",
   "execution_count": 64,
   "id": "c0d54767",
   "metadata": {},
   "outputs": [
    {
     "name": "stdout",
     "output_type": "stream",
     "text": [
      "                            key_0  CUISINE DESCRIPTION_pop  \\\n",
      "37                      Soul Food                       22   \n",
      "35  Vietnamese/Cambodian/Malaysia                       32   \n",
      "24                          Other                      103   \n",
      "40             Soups & Sandwiches                       21   \n",
      "39                       Barbecue                       21   \n",
      "38                    Continental                       21   \n",
      "17                          Asian                      146   \n",
      "1                         Chinese                     1097   \n",
      "31                          Greek                       55   \n",
      "36                       Peruvian                       28   \n",
      "\n",
      "    CUISINE DESCRIPTION_clean     Ratio  \n",
      "37                          2  0.090909  \n",
      "35                          2  0.062500  \n",
      "24                          6  0.058252  \n",
      "40                          1  0.047619  \n",
      "39                          1  0.047619  \n",
      "38                          1  0.047619  \n",
      "17                          6  0.041096  \n",
      "1                          42  0.038286  \n",
      "31                          2  0.036364  \n",
      "36                          1  0.035714  \n"
     ]
    }
   ],
   "source": [
    "cusines = df[['DBA', 'BUILDING', 'STREET', 'ZIPCODE', 'BORO', 'CUISINE DESCRIPTION']].dropna(how='any').drop_duplicates()['CUISINE DESCRIPTION'].value_counts()\n",
    "\n",
    "mask = (cusines > 19)\n",
    "\n",
    "cusinesPopular = cusines[mask]\n",
    "\n",
    "cusinesPopularFrame = cusinesPopular.to_frame()\n",
    "popCusinesCleanFrame = clean_rest.to_frame()\n",
    "\n",
    "cusMerged = cusinesPopularFrame.merge(popCusinesCleanFrame, left_on=cusinesPopularFrame.index, right_on=popCusinesCleanFrame.index,suffixes=['_pop', '_clean'])\n",
    "\n",
    "cusMerged[\"Ratio\"] = cusMerged['CUISINE DESCRIPTION_clean'] / cusMerged['CUISINE DESCRIPTION_pop']\n",
    "\n",
    "cleanSorted = cusMerged.sort_values('Ratio',ascending=False)\n",
    "\n",
    "print(cleanSorted[:10])"
   ]
  },
  {
   "cell_type": "markdown",
   "id": "0111a117",
   "metadata": {},
   "source": [
    "## Question 11"
   ]
  },
  {
   "cell_type": "code",
   "execution_count": 13,
   "id": "45811b53",
   "metadata": {},
   "outputs": [
    {
     "data": {
      "text/plain": [
       "BORO\n",
       "BRONX            Non-food contact surface improperly constructe...\n",
       "BROOKLYN         Non-food contact surface improperly constructe...\n",
       "MANHATTAN        Non-food contact surface improperly constructe...\n",
       "QUEENS           Non-food contact surface improperly constructe...\n",
       "STATEN ISLAND    Non-food contact surface improperly constructe...\n",
       "dtype: object"
      ]
     },
     "execution_count": 13,
     "metadata": {},
     "output_type": "execute_result"
    }
   ],
   "source": [
    "voiBoro = df[['BORO', 'VIOLATION DESCRIPTION']].dropna(how='any').drop_duplicates()\n",
    "x = pd.crosstab(df['BORO'], df['VIOLATION DESCRIPTION'])\n",
    "x.T.idxmax()"
   ]
  },
  {
   "cell_type": "markdown",
   "id": "d88ca15e",
   "metadata": {},
   "source": [
    "## Question 12"
   ]
  },
  {
   "cell_type": "code",
   "execution_count": 14,
   "id": "b3098419",
   "metadata": {},
   "outputs": [
    {
     "data": {
      "text/plain": [
       "BORO\n",
       "BRONX            Non-food contact surface improperly constructe...\n",
       "BROOKLYN         Non-food contact surface improperly constructe...\n",
       "MANHATTAN        Non-food contact surface improperly constructe...\n",
       "QUEENS           Non-food contact surface improperly constructe...\n",
       "STATEN ISLAND    Non-food contact surface improperly constructe...\n",
       "dtype: object"
      ]
     },
     "execution_count": 14,
     "metadata": {},
     "output_type": "execute_result"
    }
   ],
   "source": [
    "(x / voiBoro['VIOLATION DESCRIPTION'].value_counts()).T.idxmax()"
   ]
  },
  {
   "cell_type": "markdown",
   "id": "2fea9526",
   "metadata": {},
   "source": [
    "## Question 13"
   ]
  },
  {
   "cell_type": "code",
   "execution_count": 15,
   "id": "2fb5e8a1",
   "metadata": {},
   "outputs": [
    {
     "data": {
      "text/plain": [
       "34"
      ]
     },
     "execution_count": 15,
     "metadata": {},
     "output_type": "execute_result"
    }
   ],
   "source": [
    "df['AREA CODE'] = df['PHONE'].str[:3]\n",
    "sum(df.drop_duplicates(subset = ['AREA CODE', 'ZIPCODE'])['AREA CODE'].value_counts() == 1)"
   ]
  },
  {
   "cell_type": "markdown",
   "id": "8f68a7eb",
   "metadata": {},
   "source": [
    "## Question 14"
   ]
  },
  {
   "cell_type": "code",
   "execution_count": 25,
   "id": "c29981aa",
   "metadata": {},
   "outputs": [
    {
     "data": {
      "text/plain": [
       "STREET TYPE_y\n",
       "AVE         AVENUE\n",
       "ST          STREET\n",
       "RD            ROAD\n",
       "PL           PLACE\n",
       "BOULEARD      BLVD\n",
       "BULEVARD      BLVD\n",
       "dtype: object"
      ]
     },
     "execution_count": 25,
     "metadata": {},
     "output_type": "execute_result"
    }
   ],
   "source": [
    "def convertString(item_list):\n",
    "    if len(item_list) > 1:\n",
    "        stype = item_list[:-1]\n",
    "        sstype = ' '.join(stype)\n",
    "        return sstype\n",
    "\n",
    "\n",
    "first = df['STREET'].str.split()\n",
    "first.replace([-1], '')\n",
    "\n",
    "street_type = df['STREET TYPE'] = df['STREET'].str.split().str[-1]\n",
    "street_base = df['STREET BASE'] = df['STREET'].str.split()\n",
    "y = street_base.map(convertString)\n",
    "df['STREET BASE'] = y\n",
    "base_and_zip = df['STREET BASE & ZIP'] = df['STREET BASE'] + \" \" + df['ZIPCODE']\n",
    "\n",
    "table_data = df[['STREET TYPE', 'STREET BASE', 'STREET BASE & ZIP']].drop_duplicates()\n",
    "\n",
    "merged_table = pd.merge(table_data, table_data, on='STREET BASE & ZIP')\n",
    "find_unique_street_mask = merged_table['STREET TYPE_x'] != merged_table['STREET TYPE_y']\n",
    "\n",
    "cross_tab = pd.crosstab(merged_table['STREET TYPE_x'][find_unique_street_mask], merged_table['STREET TYPE_y'][find_unique_street_mask])\n",
    "\n",
    "common_street_types = [\"AVE\", \"ST\", \"RD\", \"PL\", \"BOULEARD\", \"BULEVARD\"]\n",
    "\n",
    "cross_tab[common_street_types].idxmax()\n"
   ]
  }
 ],
 "metadata": {
  "kernelspec": {
   "display_name": "Python 3 (ipykernel)",
   "language": "python",
   "name": "python3"
  },
  "language_info": {
   "codemirror_mode": {
    "name": "ipython",
    "version": 3
   },
   "file_extension": ".py",
   "mimetype": "text/x-python",
   "name": "python",
   "nbconvert_exporter": "python",
   "pygments_lexer": "ipython3",
   "version": "3.9.12"
  }
 },
 "nbformat": 4,
 "nbformat_minor": 5
}
