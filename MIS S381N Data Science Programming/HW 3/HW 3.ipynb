{
 "cells": [
  {
   "cell_type": "markdown",
   "id": "643b4ea6",
   "metadata": {},
   "source": [
    "### Question 1: Read in data"
   ]
  },
  {
   "cell_type": "code",
   "execution_count": 184,
   "id": "f9a6d69e",
   "metadata": {},
   "outputs": [],
   "source": [
    "from pandas import Series, DataFrame\n",
    "import pandas as pd\n",
    "import matplotlib.pyplot as plt\n",
    "\n",
    "gold_df_col = ['URL', 'Category']\n",
    "gold_df = pd.read_table('gold.txt',  sep = \"\\t\",  header = None, names = gold_df_col)\n",
    "\n",
    "labels_df_col = ['Turk', 'URL', 'Category']\n",
    "labels_df = pd.read_table('labels.txt', sep = \"\\t\",  header = None, names = labels_df_col)\n",
    "\n",
    "# len(labels_df) #92721 rows \n",
    "# len(gold_df) #1517 rows"
   ]
  },
  {
   "cell_type": "markdown",
   "id": "89e7e4e0",
   "metadata": {},
   "source": [
    "### Question 2: Split into two DataFrames "
   ]
  },
  {
   "cell_type": "code",
   "execution_count": 198,
   "id": "7e53d706",
   "metadata": {},
   "outputs": [],
   "source": [
    "labels_on_gold_df_mask = labels_df['URL'].isin(gold_df['URL'])\n",
    "unknown_labels_df_mask = ~labels_df['URL'].isin(gold_df['URL'])\n",
    "\n",
    "labels_on_gold_df = labels_df[labels_on_gold_df_mask]\n",
    "unknown_labels = labels_df[unknown_labels_df_mask]\n"
   ]
  },
  {
   "cell_type": "markdown",
   "id": "8e69ce63",
   "metadata": {},
   "source": [
    "### Question 3: Compute accuracies of turks\n"
   ]
  },
  {
   "cell_type": "code",
   "execution_count": 199,
   "id": "dd2851ae",
   "metadata": {},
   "outputs": [
    {
     "data": {
      "text/html": [
       "<div>\n",
       "<style scoped>\n",
       "    .dataframe tbody tr th:only-of-type {\n",
       "        vertical-align: middle;\n",
       "    }\n",
       "\n",
       "    .dataframe tbody tr th {\n",
       "        vertical-align: top;\n",
       "    }\n",
       "\n",
       "    .dataframe thead th {\n",
       "        text-align: right;\n",
       "    }\n",
       "</style>\n",
       "<table border=\"1\" class=\"dataframe\">\n",
       "  <thead>\n",
       "    <tr style=\"text-align: right;\">\n",
       "      <th></th>\n",
       "      <th># of Ratings</th>\n",
       "      <th>Average Correct</th>\n",
       "    </tr>\n",
       "    <tr>\n",
       "      <th>Turk</th>\n",
       "      <th></th>\n",
       "      <th></th>\n",
       "    </tr>\n",
       "  </thead>\n",
       "  <tbody>\n",
       "    <tr>\n",
       "      <th>A112DVP1KG4QZU</th>\n",
       "      <td>1</td>\n",
       "      <td>1.000000</td>\n",
       "    </tr>\n",
       "    <tr>\n",
       "      <th>A1253FXHCZ9CWM</th>\n",
       "      <td>29</td>\n",
       "      <td>0.517241</td>\n",
       "    </tr>\n",
       "    <tr>\n",
       "      <th>A12CY1Q7XKJJDE</th>\n",
       "      <td>1</td>\n",
       "      <td>1.000000</td>\n",
       "    </tr>\n",
       "    <tr>\n",
       "      <th>A12RE8G66WTO8B</th>\n",
       "      <td>20</td>\n",
       "      <td>0.750000</td>\n",
       "    </tr>\n",
       "    <tr>\n",
       "      <th>A12Y1GTGIQDGRA</th>\n",
       "      <td>3</td>\n",
       "      <td>0.333333</td>\n",
       "    </tr>\n",
       "    <tr>\n",
       "      <th>...</th>\n",
       "      <td>...</td>\n",
       "      <td>...</td>\n",
       "    </tr>\n",
       "    <tr>\n",
       "      <th>AYWOBMTEGFVVI</th>\n",
       "      <td>1</td>\n",
       "      <td>0.000000</td>\n",
       "    </tr>\n",
       "    <tr>\n",
       "      <th>AZ1S5BIG5R6P6</th>\n",
       "      <td>35</td>\n",
       "      <td>0.714286</td>\n",
       "    </tr>\n",
       "    <tr>\n",
       "      <th>AZSDW7JJL5VA7</th>\n",
       "      <td>100</td>\n",
       "      <td>0.680000</td>\n",
       "    </tr>\n",
       "    <tr>\n",
       "      <th>AZVB3RZW0OR1H</th>\n",
       "      <td>3</td>\n",
       "      <td>0.666667</td>\n",
       "    </tr>\n",
       "    <tr>\n",
       "      <th>amurray</th>\n",
       "      <td>15</td>\n",
       "      <td>0.933333</td>\n",
       "    </tr>\n",
       "  </tbody>\n",
       "</table>\n",
       "<p>269 rows × 2 columns</p>\n",
       "</div>"
      ],
      "text/plain": [
       "                # of Ratings  Average Correct\n",
       "Turk                                         \n",
       "A112DVP1KG4QZU             1         1.000000\n",
       "A1253FXHCZ9CWM            29         0.517241\n",
       "A12CY1Q7XKJJDE             1         1.000000\n",
       "A12RE8G66WTO8B            20         0.750000\n",
       "A12Y1GTGIQDGRA             3         0.333333\n",
       "...                      ...              ...\n",
       "AYWOBMTEGFVVI              1         0.000000\n",
       "AZ1S5BIG5R6P6             35         0.714286\n",
       "AZSDW7JJL5VA7            100         0.680000\n",
       "AZVB3RZW0OR1H              3         0.666667\n",
       "amurray                   15         0.933333\n",
       "\n",
       "[269 rows x 2 columns]"
      ]
     },
     "execution_count": 199,
     "metadata": {},
     "output_type": "execute_result"
    }
   ],
   "source": [
    "# rater_goodness = pd.DataFrame(labels_on_gold_df, index = labels_on_gold_df['Turk'].drop_duplicates(), columns = ['Count', 'Average'])\n",
    "\n",
    "rater_goodness_merge = pd.merge(labels_on_gold_df, gold_df[['URL', 'Category']], on = \"URL\", how = \"left\", suffixes=['_labels','_gold']) \n",
    "\n",
    "rater_goodness_merge['correct'] = (rater_goodness_merge['Category_labels'] == merged_set['Category_gold'])\n",
    "\n",
    "rater_goodness = rater_goodness_merge.groupby('Turk')['correct'].agg(['count','mean'])\n",
    "\n",
    "rater_goodness.rename(columns = {'count':'# of Ratings', 'mean':'Average Correct'}, inplace = True)\n",
    "\n",
    "rater_goodness\n"
   ]
  },
  {
   "cell_type": "markdown",
   "id": "979b44b5",
   "metadata": {},
   "source": [
    "### Question 4: Odds ratios"
   ]
  },
  {
   "cell_type": "code",
   "execution_count": 202,
   "id": "d2f1eb7e",
   "metadata": {},
   "outputs": [
    {
     "data": {
      "text/html": [
       "<div>\n",
       "<style scoped>\n",
       "    .dataframe tbody tr th:only-of-type {\n",
       "        vertical-align: middle;\n",
       "    }\n",
       "\n",
       "    .dataframe tbody tr th {\n",
       "        vertical-align: top;\n",
       "    }\n",
       "\n",
       "    .dataframe thead th {\n",
       "        text-align: right;\n",
       "    }\n",
       "</style>\n",
       "<table border=\"1\" class=\"dataframe\">\n",
       "  <thead>\n",
       "    <tr style=\"text-align: right;\">\n",
       "      <th></th>\n",
       "      <th># of Ratings</th>\n",
       "      <th>Average Correct</th>\n",
       "      <th>Odds</th>\n",
       "    </tr>\n",
       "    <tr>\n",
       "      <th>Turk</th>\n",
       "      <th></th>\n",
       "      <th></th>\n",
       "      <th></th>\n",
       "    </tr>\n",
       "  </thead>\n",
       "  <tbody>\n",
       "    <tr>\n",
       "      <th>A112DVP1KG4QZU</th>\n",
       "      <td>1</td>\n",
       "      <td>1.000000</td>\n",
       "      <td>1000.000000</td>\n",
       "    </tr>\n",
       "    <tr>\n",
       "      <th>A1253FXHCZ9CWM</th>\n",
       "      <td>29</td>\n",
       "      <td>0.517241</td>\n",
       "      <td>1.069214</td>\n",
       "    </tr>\n",
       "    <tr>\n",
       "      <th>A12CY1Q7XKJJDE</th>\n",
       "      <td>1</td>\n",
       "      <td>1.000000</td>\n",
       "      <td>1000.000000</td>\n",
       "    </tr>\n",
       "    <tr>\n",
       "      <th>A12RE8G66WTO8B</th>\n",
       "      <td>20</td>\n",
       "      <td>0.750000</td>\n",
       "      <td>2.988048</td>\n",
       "    </tr>\n",
       "    <tr>\n",
       "      <th>A12Y1GTGIQDGRA</th>\n",
       "      <td>3</td>\n",
       "      <td>0.333333</td>\n",
       "      <td>0.499251</td>\n",
       "    </tr>\n",
       "    <tr>\n",
       "      <th>...</th>\n",
       "      <td>...</td>\n",
       "      <td>...</td>\n",
       "      <td>...</td>\n",
       "    </tr>\n",
       "    <tr>\n",
       "      <th>AYWOBMTEGFVVI</th>\n",
       "      <td>1</td>\n",
       "      <td>0.000000</td>\n",
       "      <td>0.000000</td>\n",
       "    </tr>\n",
       "    <tr>\n",
       "      <th>AZ1S5BIG5R6P6</th>\n",
       "      <td>35</td>\n",
       "      <td>0.714286</td>\n",
       "      <td>2.491281</td>\n",
       "    </tr>\n",
       "    <tr>\n",
       "      <th>AZSDW7JJL5VA7</th>\n",
       "      <td>100</td>\n",
       "      <td>0.680000</td>\n",
       "      <td>2.118380</td>\n",
       "    </tr>\n",
       "    <tr>\n",
       "      <th>AZVB3RZW0OR1H</th>\n",
       "      <td>3</td>\n",
       "      <td>0.666667</td>\n",
       "      <td>1.994018</td>\n",
       "    </tr>\n",
       "    <tr>\n",
       "      <th>amurray</th>\n",
       "      <td>15</td>\n",
       "      <td>0.933333</td>\n",
       "      <td>13.793103</td>\n",
       "    </tr>\n",
       "  </tbody>\n",
       "</table>\n",
       "<p>269 rows × 3 columns</p>\n",
       "</div>"
      ],
      "text/plain": [
       "                # of Ratings  Average Correct         Odds\n",
       "Turk                                                      \n",
       "A112DVP1KG4QZU             1         1.000000  1000.000000\n",
       "A1253FXHCZ9CWM            29         0.517241     1.069214\n",
       "A12CY1Q7XKJJDE             1         1.000000  1000.000000\n",
       "A12RE8G66WTO8B            20         0.750000     2.988048\n",
       "A12Y1GTGIQDGRA             3         0.333333     0.499251\n",
       "...                      ...              ...          ...\n",
       "AYWOBMTEGFVVI              1         0.000000     0.000000\n",
       "AZ1S5BIG5R6P6             35         0.714286     2.491281\n",
       "AZSDW7JJL5VA7            100         0.680000     2.118380\n",
       "AZVB3RZW0OR1H              3         0.666667     1.994018\n",
       "amurray                   15         0.933333    13.793103\n",
       "\n",
       "[269 rows x 3 columns]"
      ]
     },
     "execution_count": 202,
     "metadata": {},
     "output_type": "execute_result"
    }
   ],
   "source": [
    "rater_goodness['Odds'] = (rater_goodness['Average Correct'] /(1.001 - (rater_goodness['Average Correct'])))\n",
    "\n",
    "rater_goodness "
   ]
  },
  {
   "cell_type": "markdown",
   "id": "0a6aaf04",
   "metadata": {},
   "source": [
    "### Question 5: Most accurate turks"
   ]
  },
  {
   "cell_type": "code",
   "execution_count": 203,
   "id": "86d59758",
   "metadata": {},
   "outputs": [
    {
     "data": {
      "text/html": [
       "<div>\n",
       "<style scoped>\n",
       "    .dataframe tbody tr th:only-of-type {\n",
       "        vertical-align: middle;\n",
       "    }\n",
       "\n",
       "    .dataframe tbody tr th {\n",
       "        vertical-align: top;\n",
       "    }\n",
       "\n",
       "    .dataframe thead th {\n",
       "        text-align: right;\n",
       "    }\n",
       "</style>\n",
       "<table border=\"1\" class=\"dataframe\">\n",
       "  <thead>\n",
       "    <tr style=\"text-align: right;\">\n",
       "      <th></th>\n",
       "      <th># of Ratings</th>\n",
       "      <th>Average Correct</th>\n",
       "      <th>Odds</th>\n",
       "    </tr>\n",
       "    <tr>\n",
       "      <th>Turk</th>\n",
       "      <th></th>\n",
       "      <th></th>\n",
       "      <th></th>\n",
       "    </tr>\n",
       "  </thead>\n",
       "  <tbody>\n",
       "    <tr>\n",
       "      <th>A2U0R4X38GUKZE</th>\n",
       "      <td>20</td>\n",
       "      <td>0.950000</td>\n",
       "      <td>18.627451</td>\n",
       "    </tr>\n",
       "    <tr>\n",
       "      <th>A22C0PJUBFJTI0</th>\n",
       "      <td>36</td>\n",
       "      <td>0.916667</td>\n",
       "      <td>10.869565</td>\n",
       "    </tr>\n",
       "    <tr>\n",
       "      <th>A23YQUBXZPKILZ</th>\n",
       "      <td>24</td>\n",
       "      <td>0.875000</td>\n",
       "      <td>6.944444</td>\n",
       "    </tr>\n",
       "    <tr>\n",
       "      <th>ATVALOQVDCMZW</th>\n",
       "      <td>103</td>\n",
       "      <td>0.854369</td>\n",
       "      <td>5.826657</td>\n",
       "    </tr>\n",
       "    <tr>\n",
       "      <th>A1HIXWH4OXT8S4</th>\n",
       "      <td>40</td>\n",
       "      <td>0.825000</td>\n",
       "      <td>4.687500</td>\n",
       "    </tr>\n",
       "    <tr>\n",
       "      <th>A3220HG1O83HQ4</th>\n",
       "      <td>22</td>\n",
       "      <td>0.818182</td>\n",
       "      <td>4.475385</td>\n",
       "    </tr>\n",
       "    <tr>\n",
       "      <th>A32W20KGQXS0LL</th>\n",
       "      <td>25</td>\n",
       "      <td>0.800000</td>\n",
       "      <td>3.980100</td>\n",
       "    </tr>\n",
       "    <tr>\n",
       "      <th>A20PWAB7G3HDHU</th>\n",
       "      <td>20</td>\n",
       "      <td>0.800000</td>\n",
       "      <td>3.980100</td>\n",
       "    </tr>\n",
       "    <tr>\n",
       "      <th>AJSJVK40F5HM6</th>\n",
       "      <td>28</td>\n",
       "      <td>0.785714</td>\n",
       "      <td>3.649635</td>\n",
       "    </tr>\n",
       "    <tr>\n",
       "      <th>A31OCN4MNHUQ6W</th>\n",
       "      <td>184</td>\n",
       "      <td>0.777174</td>\n",
       "      <td>3.472222</td>\n",
       "    </tr>\n",
       "  </tbody>\n",
       "</table>\n",
       "</div>"
      ],
      "text/plain": [
       "                # of Ratings  Average Correct       Odds\n",
       "Turk                                                    \n",
       "A2U0R4X38GUKZE            20         0.950000  18.627451\n",
       "A22C0PJUBFJTI0            36         0.916667  10.869565\n",
       "A23YQUBXZPKILZ            24         0.875000   6.944444\n",
       "ATVALOQVDCMZW            103         0.854369   5.826657\n",
       "A1HIXWH4OXT8S4            40         0.825000   4.687500\n",
       "A3220HG1O83HQ4            22         0.818182   4.475385\n",
       "A32W20KGQXS0LL            25         0.800000   3.980100\n",
       "A20PWAB7G3HDHU            20         0.800000   3.980100\n",
       "AJSJVK40F5HM6             28         0.785714   3.649635\n",
       "A31OCN4MNHUQ6W           184         0.777174   3.472222"
      ]
     },
     "execution_count": 203,
     "metadata": {},
     "output_type": "execute_result"
    }
   ],
   "source": [
    "rater_goodness[rater_goodness['# of Ratings'] >= 20].sort_values(by = 'Odds', ascending=False)[:10]\n"
   ]
  },
  {
   "cell_type": "markdown",
   "id": "f99bc667",
   "metadata": {},
   "source": [
    "### Question 6: Rating counts versus accuracy\n",
    "From the plots below, it seems that accuracy is not related to number of ratings. "
   ]
  },
  {
   "cell_type": "code",
   "execution_count": 165,
   "id": "259260f2",
   "metadata": {},
   "outputs": [
    {
     "data": {
      "text/plain": [
       "<matplotlib.collections.PathCollection at 0x7fda84550490>"
      ]
     },
     "execution_count": 165,
     "metadata": {},
     "output_type": "execute_result"
    },
    {
     "data": {
      "image/png": "[encoded data removed]",
      "text/plain": [
       "<Figure size 432x288 with 1 Axes>"
      ]
     },
     "metadata": {
      "needs_background": "light"
     },
     "output_type": "display_data"
    }
   ],
   "source": [
    "x = rater_goodness['# of Ratings']\n",
    "y = rater_goodness['Average Correct']\n",
    "\n",
    "plt.title('Count vs Accuracy')\n",
    "plt.xlabel(\"Count of Ratings\")\n",
    "plt.ylabel(\"Average Correct\")\n",
    "\n",
    "plt.scatter (x, y, color = '#88c999')\n"
   ]
  },
  {
   "cell_type": "code",
   "execution_count": 167,
   "id": "254ecd01",
   "metadata": {},
   "outputs": [
    {
     "data": {
      "text/plain": [
       "<matplotlib.collections.PathCollection at 0x7fda71c87c70>"
      ]
     },
     "execution_count": 167,
     "metadata": {},
     "output_type": "execute_result"
    },
    {
     "data": {
      "image/png": "[encoded data removed]",
      "text/plain": [
       "<Figure size 432x288 with 1 Axes>"
      ]
     },
     "metadata": {
      "needs_background": "light"
     },
     "output_type": "display_data"
    }
   ],
   "source": [
    "x = rater_goodness['# of Ratings']\n",
    "y = rater_goodness['Odds']\n",
    "\n",
    "plt.title('Count vs Accuracy')\n",
    "plt.xlabel(\"Count of Ratings\")\n",
    "plt.ylabel(\"Odds Ratios\")\n",
    "\n",
    "plt.scatter (x, y, color = '#88c999')"
   ]
  },
  {
   "cell_type": "markdown",
   "id": "1cca732d",
   "metadata": {},
   "source": [
    "### Question 7\n",
    "Consider each url u that is not in the gold set, and each category c. For the\n",
    "pair (u, c), calculate the product of odds of all turks who (a) rated url u as\n",
    "category c, and (b) have rated more gold set urls than 75% of all turks who\n",
    "rated at least one gold-set url.\n",
    "For example, if you find that there are 269 turks who rated at least one\n",
    "gold-set url, you want to select only the turks who have rated more gold-set\n",
    "urls than 75% of these 269 turks. We can think of these as our “reliable”\n",
    "turks. Now, our belief that url u belongs to category c depends on how many\n",
    "“reliable” turks rated u as c; specifically, our belief is based on the product\n",
    "of their reliability scores (i.e., their odds).\n",
    "We shall call such products of odds the overall odds henceforth."
   ]
  },
  {
   "cell_type": "code",
   "execution_count": null,
   "id": "b9b481fd",
   "metadata": {},
   "outputs": [],
   "source": []
  }
 ],
 "metadata": {
  "kernelspec": {
   "display_name": "Python 3 (ipykernel)",
   "language": "python",
   "name": "python3"
  },
  "language_info": {
   "codemirror_mode": {
    "name": "ipython",
    "version": 3
   },
   "file_extension": ".py",
   "mimetype": "text/x-python",
   "name": "python",
   "nbconvert_exporter": "python",
   "pygments_lexer": "ipython3",
   "version": "3.9.12"
  }
 },
 "nbformat": 4,
 "nbformat_minor": 5
}
